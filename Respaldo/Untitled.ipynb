{
 "cells": [
  {
   "cell_type": "code",
   "execution_count": 3,
   "metadata": {},
   "outputs": [],
   "source": [
    "import pandas as pd\n",
    "import os\n",
    "import pyodbc"
   ]
  },
  {
   "cell_type": "code",
   "execution_count": 2,
   "metadata": {},
   "outputs": [],
   "source": [
    "def guardarTablaHtml(url, nombre):\n",
    "    import pandas as pd\n",
    "    import os\n",
    "    lista_csv = []\n",
    "    try:\n",
    "      os.mkdir(nombre)\n",
    "    except:\n",
    "      print(\"Ya existe la carpeta\")\n",
    "    \n",
    "    for i in range(0,len(pd.read_html(url))):\n",
    "        lista_csv.append(pd.read_html(url)[i])\n",
    "        temp_csv = pd.read_html(url)[i]\n",
    "        temp_nombre = nombre + str(i)\n",
    "        temp_csv.to_excel(nombre + \"/\" + temp_nombre + \".xls\")\n",
    "        temp_csv.to_csv(nombre + \"/\" + temp_nombre + \".csv\")\n",
    "        print(\"Hola\")"
   ]
  },
  {
   "cell_type": "code",
   "execution_count": null,
   "metadata": {},
   "outputs": [],
   "source": [
    "conection = pyodbc.connect(\"Driver={SQL Server};Server=sud-austral.database.windows.net;Database=sudaustral;uid=sudaustral;pwd=Sud123456789\");\n",
    "cursor = conection.cursor();\n",
    "cursor.execute(\"SELECT * FROM ADMIN.A\")\n",
    "rows = cursor.fetchall()"
   ]
  }
 ],
 "metadata": {
  "kernelspec": {
   "display_name": "Python 3",
   "language": "python",
   "name": "python3"
  },
  "language_info": {
   "codemirror_mode": {
    "name": "ipython",
    "version": 3
   },
   "file_extension": ".py",
   "mimetype": "text/x-python",
   "name": "python",
   "nbconvert_exporter": "python",
   "pygments_lexer": "ipython3",
   "version": "3.7.4"
  }
 },
 "nbformat": 4,
 "nbformat_minor": 2
}
