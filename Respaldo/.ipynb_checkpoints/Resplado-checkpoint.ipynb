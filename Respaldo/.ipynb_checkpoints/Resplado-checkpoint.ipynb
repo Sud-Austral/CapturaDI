{
 "cells": [
  {
   "cell_type": "code",
   "execution_count": 3,
   "metadata": {},
   "outputs": [],
   "source": [
    "import pandas as pd\n",
    "import os\n",
    "import pyodbc"
   ]
  },
  {
   "cell_type": "code",
   "execution_count": 18,
   "metadata": {},
   "outputs": [],
   "source": [
    "def respaldarBaseDato(nombre):\n",
    "    import pandas as pd\n",
    "    import os\n",
    "    lista_tablas = [\"ARCHIVO_ORIGINAL\",\"DESCRIPCION_FUENTES\",\"DETALLE_FUENTES\",\"ENTIDADES\",\"GEOSERVICIOS_FUENTES\", \"SUBTEMAS\",\"TEMA\",\"VARIABLES_ORIGINALES\"]\n",
    "    conection = pyodbc.connect(\"Driver={SQL Server};Server=sud-austral.database.windows.net;Database=sudaustral;uid=sudaustral;pwd=Sud123456789\");\n",
    "    query = \"SELECT * FROM \"\n",
    "    try:\n",
    "      os.mkdir(nombre)\n",
    "    except:\n",
    "      print(\"Ya existe la carpeta\")\n",
    "    for i in lista_tablas:\n",
    "        consulta = query + i\n",
    "        df = pd.read_sql(consulta, conection)\n",
    "        df.to_csv(nombre + \"/\" + i + \".csv\")"
   ]
  },
  {
   "cell_type": "code",
   "execution_count": 19,
   "metadata": {},
   "outputs": [
    {
     "name": "stdout",
     "output_type": "stream",
     "text": [
      "Ya existe la carpeta\n"
     ]
    }
   ],
   "source": [
    "respaldarBaseDato(\"9-3-2020\")"
   ]
  }
 ],
 "metadata": {
  "kernelspec": {
   "display_name": "Python 3",
   "language": "python",
   "name": "python3"
  },
  "language_info": {
   "codemirror_mode": {
    "name": "ipython",
    "version": 3
   },
   "file_extension": ".py",
   "mimetype": "text/x-python",
   "name": "python",
   "nbconvert_exporter": "python",
   "pygments_lexer": "ipython3",
   "version": "3.7.4"
  }
 },
 "nbformat": 4,
 "nbformat_minor": 2
}
